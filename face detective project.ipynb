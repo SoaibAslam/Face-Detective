{
 "cells": [
  {
   "cell_type": "code",
   "execution_count": 12,
   "metadata": {},
   "outputs": [],
   "source": [
    "import cv2  # type: ignore"
   ]
  },
  {
   "cell_type": "code",
   "execution_count": 13,
   "metadata": {},
   "outputs": [],
   "source": [
    "# camera open\n",
    "\n",
    "video_cap = cv2.VideoCapture(0)\n",
    "\n",
    "while True:\n",
    "     ret, video_data = video_cap.read()\n",
    "     if not ret:\n",
    "         print(\"Error capturing video.\")\n",
    "         break\n",
    "    \n",
    "     cv2.imshow(\"video_live\", video_data)\n",
    "    \n",
    "     if cv2.waitKey(10) == ord(\"c\"):\n",
    "         break\n",
    "video_cap.release()\n",
    "cv2.destroyAllWindows()\n"
   ]
  },
  {
   "cell_type": "code",
   "execution_count": 14,
   "metadata": {},
   "outputs": [],
   "source": [
    "#camera open and face detect\n",
    "\n",
    "face_cascade = cv2.CascadeClassifier(cv2.data.haarcascades + 'haarcascade_frontalface_default.xml')\n",
    "video_cap = cv2.VideoCapture(0)\n",
    "\n",
    "while True:\n",
    "     ret, video_data = video_cap.read()\n",
    "     col = cv2.cvtColor(video_data,cv2.COLOR_BGR2GRAY)\n",
    "     faces = face_cascade.detectMultiScale(\n",
    "         col,\n",
    "         scaleFactor=1.1,\n",
    "         minNeighbors=5,\n",
    "         minSize=(30,30),\n",
    "         flags=cv2.CASCADE_SCALE_IMAGE\n",
    "     )\n",
    "     for(x,y,w,h) in faces:\n",
    "         cv2.rectangle(video_data,(x,y),(x+w,y+h),(0,255,0),2)\n",
    "     if not ret:\n",
    "         print(\"Error capturing video.\")\n",
    "         break\n",
    "    \n",
    "     cv2.imshow(\"video_live\", video_data)\n",
    "    \n",
    "     if cv2.waitKey(10) == ord(\"c\"):\n",
    "         break\n",
    "\n",
    "video_cap.release()\n",
    "cv2.destroyAllWindows()\n"
   ]
  }
 ],
 "metadata": {
  "kernelspec": {
   "display_name": "Python 3",
   "language": "python",
   "name": "python3"
  },
  "language_info": {
   "codemirror_mode": {
    "name": "ipython",
    "version": 3
   },
   "file_extension": ".py",
   "mimetype": "text/x-python",
   "name": "python",
   "nbconvert_exporter": "python",
   "pygments_lexer": "ipython3",
   "version": "3.12.5"
  }
 },
 "nbformat": 4,
 "nbformat_minor": 2
}
